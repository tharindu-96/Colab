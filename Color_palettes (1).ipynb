{
  "nbformat": 4,
  "nbformat_minor": 0,
  "metadata": {
    "colab": {
      "provenance": []
    },
    "kernelspec": {
      "name": "python3",
      "display_name": "Python 3"
    },
    "language_info": {
      "name": "python"
    },
    "widgets": {
      "application/vnd.jupyter.widget-state+json": {
        "998a21d01c6848af868d2587cf3cb19b": {
          "model_module": "@jupyter-widgets/controls",
          "model_name": "FloatTextModel",
          "model_module_version": "1.5.0",
          "state": {
            "_dom_classes": [],
            "_model_module": "@jupyter-widgets/controls",
            "_model_module_version": "1.5.0",
            "_model_name": "FloatTextModel",
            "_view_count": null,
            "_view_module": "@jupyter-widgets/controls",
            "_view_module_version": "1.5.0",
            "_view_name": "FloatTextView",
            "continuous_update": false,
            "description": "Min value:",
            "description_tooltip": null,
            "disabled": false,
            "layout": "IPY_MODEL_a232b781a1be4f83a89d7b0514397f2c",
            "step": null,
            "style": "IPY_MODEL_745bfd5cce3c4b50a24a770c7490542a",
            "value": 125
          }
        },
        "a232b781a1be4f83a89d7b0514397f2c": {
          "model_module": "@jupyter-widgets/base",
          "model_name": "LayoutModel",
          "model_module_version": "1.2.0",
          "state": {
            "_model_module": "@jupyter-widgets/base",
            "_model_module_version": "1.2.0",
            "_model_name": "LayoutModel",
            "_view_count": null,
            "_view_module": "@jupyter-widgets/base",
            "_view_module_version": "1.2.0",
            "_view_name": "LayoutView",
            "align_content": null,
            "align_items": null,
            "align_self": null,
            "border": null,
            "bottom": null,
            "display": null,
            "flex": null,
            "flex_flow": null,
            "grid_area": null,
            "grid_auto_columns": null,
            "grid_auto_flow": null,
            "grid_auto_rows": null,
            "grid_column": null,
            "grid_gap": null,
            "grid_row": null,
            "grid_template_areas": null,
            "grid_template_columns": null,
            "grid_template_rows": null,
            "height": null,
            "justify_content": null,
            "justify_items": null,
            "left": null,
            "margin": null,
            "max_height": null,
            "max_width": null,
            "min_height": null,
            "min_width": null,
            "object_fit": null,
            "object_position": null,
            "order": null,
            "overflow": null,
            "overflow_x": null,
            "overflow_y": null,
            "padding": null,
            "right": null,
            "top": null,
            "visibility": null,
            "width": null
          }
        },
        "745bfd5cce3c4b50a24a770c7490542a": {
          "model_module": "@jupyter-widgets/controls",
          "model_name": "DescriptionStyleModel",
          "model_module_version": "1.5.0",
          "state": {
            "_model_module": "@jupyter-widgets/controls",
            "_model_module_version": "1.5.0",
            "_model_name": "DescriptionStyleModel",
            "_view_count": null,
            "_view_module": "@jupyter-widgets/base",
            "_view_module_version": "1.2.0",
            "_view_name": "StyleView",
            "description_width": ""
          }
        },
        "8ece15eb66924c62bba2a8c5f444983e": {
          "model_module": "@jupyter-widgets/controls",
          "model_name": "FloatTextModel",
          "model_module_version": "1.5.0",
          "state": {
            "_dom_classes": [],
            "_model_module": "@jupyter-widgets/controls",
            "_model_module_version": "1.5.0",
            "_model_name": "FloatTextModel",
            "_view_count": null,
            "_view_module": "@jupyter-widgets/controls",
            "_view_module_version": "1.5.0",
            "_view_name": "FloatTextView",
            "continuous_update": false,
            "description": "Max value:",
            "description_tooltip": null,
            "disabled": false,
            "layout": "IPY_MODEL_e501c1042b8649b9b734e831f59a2ab3",
            "step": null,
            "style": "IPY_MODEL_9c11facc39524ce694743e49fc8329bc",
            "value": 2546
          }
        },
        "e501c1042b8649b9b734e831f59a2ab3": {
          "model_module": "@jupyter-widgets/base",
          "model_name": "LayoutModel",
          "model_module_version": "1.2.0",
          "state": {
            "_model_module": "@jupyter-widgets/base",
            "_model_module_version": "1.2.0",
            "_model_name": "LayoutModel",
            "_view_count": null,
            "_view_module": "@jupyter-widgets/base",
            "_view_module_version": "1.2.0",
            "_view_name": "LayoutView",
            "align_content": null,
            "align_items": null,
            "align_self": null,
            "border": null,
            "bottom": null,
            "display": null,
            "flex": null,
            "flex_flow": null,
            "grid_area": null,
            "grid_auto_columns": null,
            "grid_auto_flow": null,
            "grid_auto_rows": null,
            "grid_column": null,
            "grid_gap": null,
            "grid_row": null,
            "grid_template_areas": null,
            "grid_template_columns": null,
            "grid_template_rows": null,
            "height": null,
            "justify_content": null,
            "justify_items": null,
            "left": null,
            "margin": null,
            "max_height": null,
            "max_width": null,
            "min_height": null,
            "min_width": null,
            "object_fit": null,
            "object_position": null,
            "order": null,
            "overflow": null,
            "overflow_x": null,
            "overflow_y": null,
            "padding": null,
            "right": null,
            "top": null,
            "visibility": null,
            "width": null
          }
        },
        "9c11facc39524ce694743e49fc8329bc": {
          "model_module": "@jupyter-widgets/controls",
          "model_name": "DescriptionStyleModel",
          "model_module_version": "1.5.0",
          "state": {
            "_model_module": "@jupyter-widgets/controls",
            "_model_module_version": "1.5.0",
            "_model_name": "DescriptionStyleModel",
            "_view_count": null,
            "_view_module": "@jupyter-widgets/base",
            "_view_module_version": "1.2.0",
            "_view_name": "StyleView",
            "description_width": ""
          }
        },
        "599dcf1470cd4487aa1b77af22563724": {
          "model_module": "@jupyter-widgets/controls",
          "model_name": "IntTextModel",
          "model_module_version": "1.5.0",
          "state": {
            "_dom_classes": [],
            "_model_module": "@jupyter-widgets/controls",
            "_model_module_version": "1.5.0",
            "_model_name": "IntTextModel",
            "_view_count": null,
            "_view_module": "@jupyter-widgets/controls",
            "_view_module_version": "1.5.0",
            "_view_name": "IntTextView",
            "continuous_update": false,
            "description": "Num intervals:",
            "description_tooltip": null,
            "disabled": false,
            "layout": "IPY_MODEL_803eff765361418bb1ad48902ef08ae2",
            "step": 1,
            "style": "IPY_MODEL_283ecc63ae7b43f889835face8891dc4",
            "value": 10
          }
        },
        "803eff765361418bb1ad48902ef08ae2": {
          "model_module": "@jupyter-widgets/base",
          "model_name": "LayoutModel",
          "model_module_version": "1.2.0",
          "state": {
            "_model_module": "@jupyter-widgets/base",
            "_model_module_version": "1.2.0",
            "_model_name": "LayoutModel",
            "_view_count": null,
            "_view_module": "@jupyter-widgets/base",
            "_view_module_version": "1.2.0",
            "_view_name": "LayoutView",
            "align_content": null,
            "align_items": null,
            "align_self": null,
            "border": null,
            "bottom": null,
            "display": null,
            "flex": null,
            "flex_flow": null,
            "grid_area": null,
            "grid_auto_columns": null,
            "grid_auto_flow": null,
            "grid_auto_rows": null,
            "grid_column": null,
            "grid_gap": null,
            "grid_row": null,
            "grid_template_areas": null,
            "grid_template_columns": null,
            "grid_template_rows": null,
            "height": null,
            "justify_content": null,
            "justify_items": null,
            "left": null,
            "margin": null,
            "max_height": null,
            "max_width": null,
            "min_height": null,
            "min_width": null,
            "object_fit": null,
            "object_position": null,
            "order": null,
            "overflow": null,
            "overflow_x": null,
            "overflow_y": null,
            "padding": null,
            "right": null,
            "top": null,
            "visibility": null,
            "width": null
          }
        },
        "283ecc63ae7b43f889835face8891dc4": {
          "model_module": "@jupyter-widgets/controls",
          "model_name": "DescriptionStyleModel",
          "model_module_version": "1.5.0",
          "state": {
            "_model_module": "@jupyter-widgets/controls",
            "_model_module_version": "1.5.0",
            "_model_name": "DescriptionStyleModel",
            "_view_count": null,
            "_view_module": "@jupyter-widgets/base",
            "_view_module_version": "1.2.0",
            "_view_name": "StyleView",
            "description_width": ""
          }
        },
        "e1f377900fcd4d1e90d2f15aecf48b92": {
          "model_module": "@jupyter-widgets/controls",
          "model_name": "ButtonModel",
          "model_module_version": "1.5.0",
          "state": {
            "_dom_classes": [],
            "_model_module": "@jupyter-widgets/controls",
            "_model_module_version": "1.5.0",
            "_model_name": "ButtonModel",
            "_view_count": null,
            "_view_module": "@jupyter-widgets/controls",
            "_view_module_version": "1.5.0",
            "_view_name": "ButtonView",
            "button_style": "",
            "description": "Submit",
            "disabled": false,
            "icon": "",
            "layout": "IPY_MODEL_c98c33a0c4c0410e8eb70462c9363cc8",
            "style": "IPY_MODEL_9f10cf0ac95d4f1caf3e038545b39a94",
            "tooltip": ""
          }
        },
        "c98c33a0c4c0410e8eb70462c9363cc8": {
          "model_module": "@jupyter-widgets/base",
          "model_name": "LayoutModel",
          "model_module_version": "1.2.0",
          "state": {
            "_model_module": "@jupyter-widgets/base",
            "_model_module_version": "1.2.0",
            "_model_name": "LayoutModel",
            "_view_count": null,
            "_view_module": "@jupyter-widgets/base",
            "_view_module_version": "1.2.0",
            "_view_name": "LayoutView",
            "align_content": null,
            "align_items": null,
            "align_self": null,
            "border": null,
            "bottom": null,
            "display": null,
            "flex": null,
            "flex_flow": null,
            "grid_area": null,
            "grid_auto_columns": null,
            "grid_auto_flow": null,
            "grid_auto_rows": null,
            "grid_column": null,
            "grid_gap": null,
            "grid_row": null,
            "grid_template_areas": null,
            "grid_template_columns": null,
            "grid_template_rows": null,
            "height": null,
            "justify_content": null,
            "justify_items": null,
            "left": null,
            "margin": null,
            "max_height": null,
            "max_width": null,
            "min_height": null,
            "min_width": null,
            "object_fit": null,
            "object_position": null,
            "order": null,
            "overflow": null,
            "overflow_x": null,
            "overflow_y": null,
            "padding": null,
            "right": null,
            "top": null,
            "visibility": null,
            "width": null
          }
        },
        "9f10cf0ac95d4f1caf3e038545b39a94": {
          "model_module": "@jupyter-widgets/controls",
          "model_name": "ButtonStyleModel",
          "model_module_version": "1.5.0",
          "state": {
            "_model_module": "@jupyter-widgets/controls",
            "_model_module_version": "1.5.0",
            "_model_name": "ButtonStyleModel",
            "_view_count": null,
            "_view_module": "@jupyter-widgets/base",
            "_view_module_version": "1.2.0",
            "_view_name": "StyleView",
            "button_color": null,
            "font_weight": ""
          }
        },
        "cccdae6faceb432180f4a015b3e07930": {
          "model_module": "@jupyter-widgets/controls",
          "model_name": "LabelModel",
          "model_module_version": "1.5.0",
          "state": {
            "_dom_classes": [],
            "_model_module": "@jupyter-widgets/controls",
            "_model_module_version": "1.5.0",
            "_model_name": "LabelModel",
            "_view_count": null,
            "_view_module": "@jupyter-widgets/controls",
            "_view_module_version": "1.5.0",
            "_view_name": "LabelView",
            "description": "",
            "description_tooltip": null,
            "layout": "IPY_MODEL_7a6c948494a044ee8177bd4b23202eca",
            "placeholder": "​",
            "style": "IPY_MODEL_94bec682642b44e295715142364fb148",
            "value": "min_value: 125.0, max_value: 2546.0, num_intervals: 10"
          }
        },
        "7a6c948494a044ee8177bd4b23202eca": {
          "model_module": "@jupyter-widgets/base",
          "model_name": "LayoutModel",
          "model_module_version": "1.2.0",
          "state": {
            "_model_module": "@jupyter-widgets/base",
            "_model_module_version": "1.2.0",
            "_model_name": "LayoutModel",
            "_view_count": null,
            "_view_module": "@jupyter-widgets/base",
            "_view_module_version": "1.2.0",
            "_view_name": "LayoutView",
            "align_content": null,
            "align_items": null,
            "align_self": null,
            "border": null,
            "bottom": null,
            "display": null,
            "flex": null,
            "flex_flow": null,
            "grid_area": null,
            "grid_auto_columns": null,
            "grid_auto_flow": null,
            "grid_auto_rows": null,
            "grid_column": null,
            "grid_gap": null,
            "grid_row": null,
            "grid_template_areas": null,
            "grid_template_columns": null,
            "grid_template_rows": null,
            "height": null,
            "justify_content": null,
            "justify_items": null,
            "left": null,
            "margin": null,
            "max_height": null,
            "max_width": null,
            "min_height": null,
            "min_width": null,
            "object_fit": null,
            "object_position": null,
            "order": null,
            "overflow": null,
            "overflow_x": null,
            "overflow_y": null,
            "padding": null,
            "right": null,
            "top": null,
            "visibility": null,
            "width": null
          }
        },
        "94bec682642b44e295715142364fb148": {
          "model_module": "@jupyter-widgets/controls",
          "model_name": "DescriptionStyleModel",
          "model_module_version": "1.5.0",
          "state": {
            "_model_module": "@jupyter-widgets/controls",
            "_model_module_version": "1.5.0",
            "_model_name": "DescriptionStyleModel",
            "_view_count": null,
            "_view_module": "@jupyter-widgets/base",
            "_view_module_version": "1.2.0",
            "_view_name": "StyleView",
            "description_width": ""
          }
        },
        "0c40558240064fc9a8aec14a824f50cf": {
          "model_module": "@jupyter-widgets/controls",
          "model_name": "DropdownModel",
          "model_module_version": "1.5.0",
          "state": {
            "_dom_classes": [],
            "_model_module": "@jupyter-widgets/controls",
            "_model_module_version": "1.5.0",
            "_model_name": "DropdownModel",
            "_options_labels": [
              "ET",
              "Precipitation",
              "SRO",
              "Water_Yield",
              "Evaporation",
              "Transpiration"
            ],
            "_view_count": null,
            "_view_module": "@jupyter-widgets/controls",
            "_view_module_version": "1.5.0",
            "_view_name": "DropdownView",
            "description": "Select an option:",
            "description_tooltip": null,
            "disabled": false,
            "index": 1,
            "layout": "IPY_MODEL_f627345fd2864b88b5bf5814893ebef1",
            "style": "IPY_MODEL_8c56f4afef2048c7b288ef32ca82bc42"
          }
        },
        "f627345fd2864b88b5bf5814893ebef1": {
          "model_module": "@jupyter-widgets/base",
          "model_name": "LayoutModel",
          "model_module_version": "1.2.0",
          "state": {
            "_model_module": "@jupyter-widgets/base",
            "_model_module_version": "1.2.0",
            "_model_name": "LayoutModel",
            "_view_count": null,
            "_view_module": "@jupyter-widgets/base",
            "_view_module_version": "1.2.0",
            "_view_name": "LayoutView",
            "align_content": null,
            "align_items": null,
            "align_self": null,
            "border": null,
            "bottom": null,
            "display": null,
            "flex": null,
            "flex_flow": null,
            "grid_area": null,
            "grid_auto_columns": null,
            "grid_auto_flow": null,
            "grid_auto_rows": null,
            "grid_column": null,
            "grid_gap": null,
            "grid_row": null,
            "grid_template_areas": null,
            "grid_template_columns": null,
            "grid_template_rows": null,
            "height": null,
            "justify_content": null,
            "justify_items": null,
            "left": null,
            "margin": null,
            "max_height": null,
            "max_width": null,
            "min_height": null,
            "min_width": null,
            "object_fit": null,
            "object_position": null,
            "order": null,
            "overflow": null,
            "overflow_x": null,
            "overflow_y": null,
            "padding": null,
            "right": null,
            "top": null,
            "visibility": null,
            "width": null
          }
        },
        "8c56f4afef2048c7b288ef32ca82bc42": {
          "model_module": "@jupyter-widgets/controls",
          "model_name": "DescriptionStyleModel",
          "model_module_version": "1.5.0",
          "state": {
            "_model_module": "@jupyter-widgets/controls",
            "_model_module_version": "1.5.0",
            "_model_name": "DescriptionStyleModel",
            "_view_count": null,
            "_view_module": "@jupyter-widgets/base",
            "_view_module_version": "1.2.0",
            "_view_name": "StyleView",
            "description_width": ""
          }
        }
      }
    }
  },
  "cells": [
    {
      "cell_type": "code",
      "source": [
        "pip install rasterio"
      ],
      "metadata": {
        "colab": {
          "base_uri": "https://localhost:8080/"
        },
        "id": "Ha6YaTmPvrwd",
        "outputId": "bf1b68b7-de92-4ff2-dbf5-b8736ed9a82d"
      },
      "execution_count": null,
      "outputs": [
        {
          "output_type": "stream",
          "name": "stdout",
          "text": [
            "Collecting rasterio\n",
            "  Downloading rasterio-1.3.8-cp310-cp310-manylinux_2_17_x86_64.manylinux2014_x86_64.whl (21.3 MB)\n",
            "\u001b[2K     \u001b[90m━━━━━━━━━━━━━━━━━━━━━━━━━━━━━━━━━━━━━━━━\u001b[0m \u001b[32m21.3/21.3 MB\u001b[0m \u001b[31m60.1 MB/s\u001b[0m eta \u001b[36m0:00:00\u001b[0m\n",
            "\u001b[?25hCollecting affine (from rasterio)\n",
            "  Downloading affine-2.4.0-py3-none-any.whl (15 kB)\n",
            "Requirement already satisfied: attrs in /usr/local/lib/python3.10/dist-packages (from rasterio) (23.1.0)\n",
            "Requirement already satisfied: certifi in /usr/local/lib/python3.10/dist-packages (from rasterio) (2023.7.22)\n",
            "Requirement already satisfied: click>=4.0 in /usr/local/lib/python3.10/dist-packages (from rasterio) (8.1.7)\n",
            "Requirement already satisfied: cligj>=0.5 in /usr/local/lib/python3.10/dist-packages (from rasterio) (0.7.2)\n",
            "Requirement already satisfied: numpy>=1.18 in /usr/local/lib/python3.10/dist-packages (from rasterio) (1.23.5)\n",
            "Collecting snuggs>=1.4.1 (from rasterio)\n",
            "  Downloading snuggs-1.4.7-py3-none-any.whl (5.4 kB)\n",
            "Requirement already satisfied: click-plugins in /usr/local/lib/python3.10/dist-packages (from rasterio) (1.1.1)\n",
            "Requirement already satisfied: setuptools in /usr/local/lib/python3.10/dist-packages (from rasterio) (67.7.2)\n",
            "Requirement already satisfied: pyparsing>=2.1.6 in /usr/local/lib/python3.10/dist-packages (from snuggs>=1.4.1->rasterio) (3.1.1)\n",
            "Installing collected packages: snuggs, affine, rasterio\n",
            "Successfully installed affine-2.4.0 rasterio-1.3.8 snuggs-1.4.7\n"
          ]
        }
      ]
    },
    {
      "cell_type": "code",
      "source": [
        "#@title Insert Minimum, Maximum and required number of intervals of the file\n",
        "import numpy as np\n",
        "import matplotlib.pyplot as plt\n",
        "import matplotlib.colors as mcolors\n",
        "import ipywidgets as widgets\n",
        "from IPython.display import display\n",
        "\n",
        "interval_breaks = []\n",
        "B_points = []\n",
        "# Create a dictionary to store the values\n",
        "input_values = {}\n",
        "\n",
        "def submit(button):\n",
        "    min_value = min_entry.value\n",
        "    max_value = max_entry.value\n",
        "    num_intervals = num_entry.value\n",
        "    B_points = []\n",
        "\n",
        "    if not min_value:\n",
        "        min_value = 0  # Default value if min_value is not provided\n",
        "\n",
        "    if not max_value:\n",
        "        max_value = 0  # Default value if max_value is not provided\n",
        "\n",
        "    try:\n",
        "        min_value = float(min_value)\n",
        "        max_value = float(max_value)\n",
        "\n",
        "        if num_intervals:\n",
        "            num_intervals = int(num_intervals)\n",
        "        else:\n",
        "            num_intervals = 10  # Default value if num_intervals is not provided\n",
        "\n",
        "        if num_intervals < 0:\n",
        "            result_label.value = \"Invalid input! num_intervals cannot be negative.\"\n",
        "        else:\n",
        "            # Store the values in the dictionary\n",
        "            input_values['min_value'] = min_value\n",
        "            input_values['max_value'] = max_value\n",
        "            input_values['num_intervals'] = num_intervals\n",
        "\n",
        "            if min_value == 0 and max_value == 0:\n",
        "                result_label.value = \"min_value: 0, max_value: 0, num_intervals: {}\".format(num_intervals)\n",
        "            else:\n",
        "                result_label.value = \"min_value: {}, max_value: {}, num_intervals: {}\".format(min_value, max_value, num_intervals)\n",
        "    except ValueError:\n",
        "        result_label.value = \"Invalid input!\"\n",
        "\n",
        "\n",
        "\n",
        "# Create input fields for the float values\n",
        "min_entry = widgets.FloatText(description=\"Min value:\")\n",
        "max_entry = widgets.FloatText(description=\"Max value:\")\n",
        "num_entry = widgets.IntText(description=\"Num intervals:\")\n",
        "display(min_entry, max_entry, num_entry)\n",
        "\n",
        "# Create a submit button\n",
        "submit_button = widgets.Button(description=\"Submit\")\n",
        "display(submit_button)\n",
        "\n",
        "# Create a label to display the result\n",
        "result_label = widgets.Label()\n",
        "display(result_label)\n",
        "\n",
        "# Assign the submit function to the button click event\n",
        "submit_button.on_click(submit)\n"
      ],
      "metadata": {
        "colab": {
          "base_uri": "https://localhost:8080/",
          "height": 173,
          "referenced_widgets": [
            "998a21d01c6848af868d2587cf3cb19b",
            "a232b781a1be4f83a89d7b0514397f2c",
            "745bfd5cce3c4b50a24a770c7490542a",
            "8ece15eb66924c62bba2a8c5f444983e",
            "e501c1042b8649b9b734e831f59a2ab3",
            "9c11facc39524ce694743e49fc8329bc",
            "599dcf1470cd4487aa1b77af22563724",
            "803eff765361418bb1ad48902ef08ae2",
            "283ecc63ae7b43f889835face8891dc4",
            "e1f377900fcd4d1e90d2f15aecf48b92",
            "c98c33a0c4c0410e8eb70462c9363cc8",
            "9f10cf0ac95d4f1caf3e038545b39a94",
            "cccdae6faceb432180f4a015b3e07930",
            "7a6c948494a044ee8177bd4b23202eca",
            "94bec682642b44e295715142364fb148"
          ]
        },
        "id": "ID0zrFyrifY7",
        "outputId": "b9dd7db3-e030-431e-cb29-e01b8a84b00c",
        "cellView": "form"
      },
      "execution_count": null,
      "outputs": [
        {
          "output_type": "display_data",
          "data": {
            "text/plain": [
              "FloatText(value=0.0, description='Min value:')"
            ],
            "application/vnd.jupyter.widget-view+json": {
              "version_major": 2,
              "version_minor": 0,
              "model_id": "998a21d01c6848af868d2587cf3cb19b"
            }
          },
          "metadata": {}
        },
        {
          "output_type": "display_data",
          "data": {
            "text/plain": [
              "FloatText(value=0.0, description='Max value:')"
            ],
            "application/vnd.jupyter.widget-view+json": {
              "version_major": 2,
              "version_minor": 0,
              "model_id": "8ece15eb66924c62bba2a8c5f444983e"
            }
          },
          "metadata": {}
        },
        {
          "output_type": "display_data",
          "data": {
            "text/plain": [
              "IntText(value=0, description='Num intervals:')"
            ],
            "application/vnd.jupyter.widget-view+json": {
              "version_major": 2,
              "version_minor": 0,
              "model_id": "599dcf1470cd4487aa1b77af22563724"
            }
          },
          "metadata": {}
        },
        {
          "output_type": "display_data",
          "data": {
            "text/plain": [
              "Button(description='Submit', style=ButtonStyle())"
            ],
            "application/vnd.jupyter.widget-view+json": {
              "version_major": 2,
              "version_minor": 0,
              "model_id": "e1f377900fcd4d1e90d2f15aecf48b92"
            }
          },
          "metadata": {}
        },
        {
          "output_type": "display_data",
          "data": {
            "text/plain": [
              "Label(value='')"
            ],
            "application/vnd.jupyter.widget-view+json": {
              "version_major": 2,
              "version_minor": 0,
              "model_id": "cccdae6faceb432180f4a015b3e07930"
            }
          },
          "metadata": {}
        }
      ]
    },
    {
      "cell_type": "code",
      "source": [
        "#@title Insert the color palette\n",
        "# ET = [\"#ffff73\", \"#e0ff73\", \"#bef74d\", \"#98e600\", \"#63c84b\", \"#3eae82\", \"#2a98a3\", \"#2a769c\", \"#265392\", \"#1f2e83\"]\n",
        "ET = [\"#F2F2F2\", \"#F0C9C0\", \"#EDB48E\", \"#EBB25E\", \"#E8C32E\", \"#E6E600\", \"#A0D600\", \"#63C600\", \"#2DB600\", \"#00A600\"]\n",
        "# Precipitation = [\"#f7f584\", \"#fcfa4f\", \"#fee323\", \"#ffaf00\", \"#fd3c2e\", \"#f20265\", \"#de00a4\", \"#b30bcf\", \"#8314d8\", \"#4e1cbf\"]\n",
        "Precipitation = [\"#FFFFD9\",\"#EDF8B1\",\"#C7E9B4\",\"#7FCDBB\", \"#41B6C4\", \"#1D91C0\", \"#225EA8\", \"#253494\", \"#081D58\" ]\n",
        "# SRO = [\"#d6d6d6\", \"#cadfeb\", \"#bee8ff\", \"#5facff\", \"#0070ff\", \"#005fd4\", \"#004da8\"]\n",
        "SRO = [\"#A50026\", \"#D73027\", \"#F46D43\", \"#FDAE61\", \"#FEE090\", \"#FFFFBF\", \"#E0F3F8\", \"#ABD9E9\", \"#74ADD1\", \"#4575B4\", \"#313695\" ]\n",
        "# SRO = [\"#543005\", \"#8C510A\", \"#BF812D\", \"#DFC27D\", \"#F6E8C3\", \"#F5F5F5\", \"#C7EAE5\", \"#80CDC1\", \"#35978F\", \"#01665E\", \"#003C30\" ]\n",
        "Water_Yield = [\"#ff0000\",\"#ff7100\",\"#ffc600\",\"#ffff00\",\"#e4e48f\",\"#9fd3e3\",\"#30cdfc\",\"#10b5ed\",\"#008ad1\",\"#004da8\"]\n",
        "Evaporation = [13, 14, 15, 16]\n",
        "Transpiration = [17, 18]\n",
        "\n",
        "options = [\n",
        "    (\"ET\", ET),\n",
        "    (\"Precipitation\", Precipitation),\n",
        "    (\"SRO\", SRO),\n",
        "    (\"Water_Yield\", Water_Yield),\n",
        "    (\"Evaporation\", Evaporation),\n",
        "    (\"Transpiration\", Transpiration)\n",
        "]\n",
        "\n",
        "option_widg = widgets.Dropdown(\n",
        "    options=options,\n",
        "    description=\"Select an option:\"\n",
        ")\n",
        "\n",
        "display(option_widg)\n"
      ],
      "metadata": {
        "colab": {
          "base_uri": "https://localhost:8080/",
          "height": 49,
          "referenced_widgets": [
            "0c40558240064fc9a8aec14a824f50cf",
            "f627345fd2864b88b5bf5814893ebef1",
            "8c56f4afef2048c7b288ef32ca82bc42"
          ]
        },
        "id": "HUZYhLMz1-Ax",
        "outputId": "a0a3e1d5-1f21-4137-e0ec-82c5f31922cc",
        "cellView": "form"
      },
      "execution_count": null,
      "outputs": [
        {
          "output_type": "display_data",
          "data": {
            "text/plain": [
              "Dropdown(description='Select an option:', options=(('ET', ['#F2F2F2', '#F0C9C0', '#EDB48E', '#EBB25E', '#E8C32…"
            ],
            "application/vnd.jupyter.widget-view+json": {
              "version_major": 2,
              "version_minor": 0,
              "model_id": "0c40558240064fc9a8aec14a824f50cf"
            }
          },
          "metadata": {}
        }
      ]
    },
    {
      "cell_type": "code",
      "source": [
        "# !pip install seaborn\n",
        "\n",
        "import seaborn as sns\n",
        "\n",
        "# Specify the number of colors you want (e.g., 11)\n",
        "num_colors = 10\n",
        "\n",
        "# Get the hex color palette\n",
        "color_palette = sns.color_palette('YlGnBu', num_colors).as_hex()\n",
        "\n",
        "# Print the array of colors\n",
        "print(color_palette)\n"
      ],
      "metadata": {
        "colab": {
          "base_uri": "https://localhost:8080/"
        },
        "id": "8W9fJGDM3a_r",
        "outputId": "721c31a5-39d9-4850-d78b-8aec6ebeeabf"
      },
      "execution_count": null,
      "outputs": [
        {
          "output_type": "stream",
          "name": "stdout",
          "text": [
            "['#f2fabc', '#dcf1b2', '#bbe4b5', '#85cfba', '#57bec1', '#34a9c3', '#1d8dbe', '#2166ac', '#24479d', '#1d2e83']\n"
          ]
        }
      ]
    },
    {
      "cell_type": "code",
      "source": [
        "#@title Insert interval breaks (if manual interval insertion is required)\n",
        "Enter_the_break_points_values = '400,500,600,700,800,900,1000,1100,1200,1400' #@param {type:\"string\"}\n",
        "# input_str = input(\"Enter the array values: \")\n",
        "input_list = Enter_the_break_points_values.split(\",\")  # Split the string at commas\n",
        "\n",
        "# Check if the input list is empty\n",
        "if input_list == ['']:\n",
        "    B_points = []  # Assign an empty list\n",
        "else:\n",
        "    B_points = [float(num) for num in input_list]  # Convert substrings to floats\n",
        "\n",
        "print(B_points)\n",
        "\n"
      ],
      "metadata": {
        "colab": {
          "base_uri": "https://localhost:8080/"
        },
        "id": "Vfw2XGsBI0-w",
        "outputId": "6598b4b6-1894-4149-861b-1860ba0c43cf",
        "cellView": "form"
      },
      "execution_count": null,
      "outputs": [
        {
          "output_type": "stream",
          "name": "stdout",
          "text": [
            "[400.0, 500.0, 600.0, 700.0, 800.0, 900.0, 1000.0, 1100.0, 1200.0, 1400.0]\n"
          ]
        }
      ]
    },
    {
      "cell_type": "code",
      "source": [
        "#@title Setting up a text file and breakpoints for the QGIS\n",
        "variable = option_widg.value\n",
        "\n",
        "# Assign B_points value to another variable\n",
        "interval_breaks = B_points\n",
        "\n",
        "# Print the value of other_variable\n",
        "# print(B_points)\n",
        "\n",
        "# print(variable)\n",
        "# Access the variable values from the dictionary\n",
        "min_value = input_values.get('min_value')\n",
        "max_value = input_values.get('max_value')\n",
        "num_intervals = input_values.get('num_intervals')\n",
        "interval_breaks = B_points\n",
        "# print(\"Min value:\", min_value)\n",
        "# print(\"Max value:\", max_value)\n",
        "# print(\"Num intervals:\", num_intervals)\n",
        "\n",
        "hex_colors = variable\n",
        "def generate_values(lower_limit, upper_limit):\n",
        "    num1 = upper_limit - lower_limit\n",
        "    num2 = np.ceil(num1 / 100)\n",
        "    # print(num2)\n",
        "\n",
        "    if num2 >= 1 and num2 < 12:\n",
        "        num_values = int(num2)\n",
        "    elif num2 >= 15 and num2 < 25:\n",
        "        num_values = int(num2/2)\n",
        "    elif num2 >= 25 and num2 < 35:\n",
        "        num_values = int(num2/3)\n",
        "    else:\n",
        "        num_values = 10\n",
        "\n",
        "    desired_gap = (upper_limit - lower_limit) / (num_values)\n",
        "    desired_gap = np.ceil(desired_gap / 100 )* 100\n",
        "    result = []\n",
        "\n",
        "    current_value = (np.ceil(lower_limit / 100) * 100)\n",
        "\n",
        "\n",
        "    for i in range(num_values-1):\n",
        "        current_value += desired_gap\n",
        "\n",
        "        rounded_value = np.floor(current_value / 100) * 100\n",
        "\n",
        "        if rounded_value >= upper_limit:\n",
        "            break\n",
        "        current_value = rounded_value\n",
        "\n",
        "\n",
        "        result.append(int(rounded_value))\n",
        "#         print(result)\n",
        "    return result\n",
        "\n",
        "def generate_values_1(lower_limit, upper_limit, num_values):\n",
        "    num1 = upper_limit - lower_limit\n",
        "#     print(num_values)\n",
        "    desired_gap = ((upper_limit - lower_limit) / (num_values))\n",
        "    desired_gap = np.floor(desired_gap / 100) * 100\n",
        "    if desired_gap ==0:\n",
        "        desired_gap =100\n",
        "    # print(desired_gap)\n",
        "    result = []\n",
        "\n",
        "    current_value = (np.floor(lower_limit / 100) * 100)\n",
        "#     print(current_value)\n",
        "\n",
        "    for i in range(num_values-1):\n",
        "        current_value += desired_gap\n",
        "\n",
        "        rounded_value = np.floor(current_value / 100) * 100\n",
        "\n",
        "        if rounded_value >= upper_limit:\n",
        "            break\n",
        "        current_value = rounded_value\n",
        "        result.append(int(rounded_value))\n",
        "\n",
        "    if (upper_limit - result[-1]) > desired_gap:\n",
        "      var1 = (upper_limit - result[-1])/2\n",
        "      var2 = var1\n",
        "      var3 = np.floor(var2/ 100) * 100\n",
        "      for i in range(num_values-1):\n",
        "        result[i] = result[i]+var3\n",
        "\n",
        "    # print(result)\n",
        "    return result\n",
        "\n",
        "def hex_to_rgb(hex_code):\n",
        "    return mcolors.hex2color(hex_code)\n",
        "\n",
        "def rgb_to_hex(rgb_color):\n",
        "    return mcolors.rgb2hex(rgb_color)\n",
        "\n",
        "def stretch_color_palette(color_palette, num_colors):\n",
        "    color_palette = np.array(color_palette)\n",
        "    old_indices = np.linspace(0, len(color_palette) - 1, num=len(color_palette))\n",
        "    new_indices = np.linspace(0, len(color_palette) - 1, num=num_colors)\n",
        "    stretched_palette = np.zeros((num_colors, color_palette.shape[1]))\n",
        "\n",
        "    for i in range(color_palette.shape[1]):\n",
        "        stretched_palette[:, i] = np.interp(new_indices, old_indices, color_palette[:, i])\n",
        "\n",
        "    return stretched_palette.tolist()\n",
        "\n",
        "def create_txt_file(min_value, max_value, interval_breaks, hex_colors):\n",
        "\n",
        "    if interval_breaks:\n",
        "        interval_breaks = sorted(interval_breaks)\n",
        "        interval_breaks = [min_value] + interval_breaks + [max_value]\n",
        "        num_intervals = len(interval_breaks) - 1\n",
        "    else:\n",
        "        interval_size = (max_value - min_value) / num_intervals\n",
        "        interval_breaks = [min_value + i * interval_size for i in range(num_intervals)]\n",
        "        interval_breaks.append(max_value)\n",
        "\n",
        "    color_ranges = []\n",
        "\n",
        "    # Stretch the hex color palette to the desired number of intervals\n",
        "    num_colors = num_intervals + 1\n",
        "    rgb_palette = [hex_to_rgb(hex_color) for hex_color in hex_colors]\n",
        "    stretched_palette = stretch_color_palette(rgb_palette, num_colors)\n",
        "\n",
        "    # Generate color ranges with defined value ranges\n",
        "    for i in range(num_intervals):\n",
        "        value_range_start = interval_breaks[i]\n",
        "        value_range_end = interval_breaks[i + 1]\n",
        "        rgb = stretched_palette[i]\n",
        "        color_ranges.append((rgb, value_range_start, value_range_end))\n",
        "\n",
        "    # Create color palette plot\n",
        "    fig, ax = plt.subplots()\n",
        "    cmap = mcolors.ListedColormap(stretched_palette)\n",
        "    bounds = list(range(num_intervals + 1))\n",
        "    norm = mcolors.BoundaryNorm(bounds, cmap.N)\n",
        "    sm = plt.cm.ScalarMappable(cmap=cmap, norm=norm)\n",
        "    sm.set_array([])  # Set an empty array to ensure correct scaling\n",
        "    cb = plt.colorbar(sm, cax=ax, boundaries=bounds, ticks=range(num_intervals + 1))\n",
        "    cb.set_label('Value Range')\n",
        "    plt.show()\n",
        "\n",
        "    # Write the color ranges to the text file\n",
        "    with open(\"color_ranges_discrete.txt\", \"w\") as txt_file:\n",
        "        txt_file.write(\"# QGIS Generated Color Map Export File\\n\")\n",
        "        txt_file.write(\"INTERPOLATION:DISCRETE\\n\")\n",
        "        for i, (rgb, value_range_start, value_range_end) in enumerate(color_ranges):\n",
        "            r, g, b = [int(c * 255) for c in rgb]\n",
        "            if i == num_intervals - 1:\n",
        "                txt_file.write(\"{:.9f},{},{},{},{},{:.9f} - {:.9f}\\n\".format(value_range_start, r, g, b, 255, value_range_start, max_value))\n",
        "            else:\n",
        "                txt_file.write(\"{:.9f},{},{},{},{},{:.9f} - {:.9f}\\n\".format(value_range_start, r, g, b, 255, value_range_start, value_range_end))\n",
        "\n",
        "    print(\"Text file created successfully.\")\n",
        "# Set the minimum and maximum values, the interval break points (optional), number of intervals (optional), and the hex color palette\n",
        "# min_value = 333\n",
        "# max_value = 1561.10742\n",
        "# # interval_breaks = [400,500,600,700,800,900,1000,1100,1200,1300,1400]  # Specify the interval break points (if available)\n",
        "# num_intervals = 30  # Specify the number of intervals (if interval break points are not provided)\n",
        "# hex_colors = [\"#9E5100\", \"#D38220\", \"#EAC479\", \"#FBE9C2\", \"#F5F5F5\", \"#D9F3F9\", \"#96DAEB\", \"#50AED4\", \"#1676B8\"]\n",
        "\n",
        "# print(num_intervals)\n",
        "# def choose(min_value, max_value,interval_breaks=[]):\n",
        "\n",
        "#     if len(interval_breaks) != 0:\n",
        "#         interval_breaks = interval_breaks\n",
        "\n",
        "#     else:\n",
        "#         try:\n",
        "#                 if len(interval_breaks) == 0:\n",
        "#                     interval_breaks = generate_values_1(min_value, max_value, num_intervals)\n",
        "#         except NameError:\n",
        "#             interval_breaks = generate_values(min_value, max_value)\n",
        "\n",
        "#     print(interval_breaks)\n",
        "#     return interval_breaks\n",
        "def choose(min_value, max_value, interval_breaks=[]):\n",
        "    if len(interval_breaks) != 0:\n",
        "        # interval_breaks is provided as input, use it directly\n",
        "        generated_breaks = interval_breaks\n",
        "    else:\n",
        "        try:\n",
        "            # interval_breaks is not provided, generate it using generate_values_1\n",
        "            generated_breaks = generate_values_1(min_value, max_value, num_intervals)\n",
        "        except NameError:\n",
        "            # num_intervals is not defined, generate breaks using generate_values\n",
        "            generated_breaks = generate_values(min_value, max_value)\n",
        "\n",
        "    print(generated_breaks)\n",
        "    return generated_breaks\n",
        "# generated_breaks = generate_values_1(min_value, max_value, num_intervals)\n",
        "# choose(min_value, max_value, interval_breaks)\n",
        "# Create the text file with color ranges based on the values and hex color palette provided\n",
        "create_txt_file(min_value, max_value, choose(min_value, max_value, interval_breaks), hex_colors)\n"
      ],
      "metadata": {
        "colab": {
          "base_uri": "https://localhost:8080/",
          "height": 455
        },
        "id": "0CiuT16bmleS",
        "outputId": "e301f090-939f-4540-9bec-7ab3e6e74c9a",
        "cellView": "form"
      },
      "execution_count": null,
      "outputs": [
        {
          "output_type": "stream",
          "name": "stdout",
          "text": [
            "[600.0, 800.0, 1000.0, 1200.0, 1400.0, 1600.0, 1800.0, 2000.0, 2200.0]\n"
          ]
        },
        {
          "output_type": "display_data",
          "data": {
            "text/plain": [
              "<Figure size 640x480 with 1 Axes>"
            ],
            "image/png": "[encoded data removed]"
          },
          "metadata": {}
        },
        {
          "output_type": "stream",
          "name": "stdout",
          "text": [
            "Text file created successfully.\n"
          ]
        }
      ]
    },
    {
      "cell_type": "code",
      "source": [
        "#@title To get Hex and Break points array\n",
        "choose(min_value, max_value, interval_breaks=[])\n",
        "def create_color_palette1(min_value, max_value, interval_breaks, hex_colors):\n",
        "    if interval_breaks:\n",
        "        interval_breaks = sorted(interval_breaks)\n",
        "        interval_breaks = [min_value] + interval_breaks + [max_value]\n",
        "        num_intervals = len(interval_breaks) - 1\n",
        "    else:\n",
        "        interval_size = (max_value - min_value) / num_intervals\n",
        "        interval_breaks = [min_value + i * interval_size for i in range(num_intervals)]\n",
        "        interval_breaks.append(max_value)\n",
        "\n",
        "    color_ranges = []\n",
        "\n",
        "    num_colors = num_intervals  # Update num_colors to match the number of intervals\n",
        "    rgb_palette = [hex_to_rgb(hex_color) for hex_color in hex_colors]\n",
        "    stretched_palette = stretch_color_palette(rgb_palette, num_colors)\n",
        "\n",
        "    for i in range(num_intervals):\n",
        "        value_range_start = interval_breaks[i]\n",
        "        value_range_end = interval_breaks[i + 1]\n",
        "        rgb = stretched_palette[i]\n",
        "        color_ranges.append((rgb, value_range_start, value_range_end))\n",
        "\n",
        "    fig, ax = plt.subplots()\n",
        "    cmap = mcolors.ListedColormap(stretched_palette)\n",
        "    bounds = list(range(num_intervals + 1))\n",
        "    norm = mcolors.BoundaryNorm(bounds, cmap.N)\n",
        "    sm = plt.cm.ScalarMappable(cmap=cmap, norm=norm)\n",
        "    sm.set_array([])\n",
        "    cb = plt.colorbar(sm, cax=ax, boundaries=bounds, ticks=range(num_intervals + 1))\n",
        "    cb.set_label('Value Range')\n",
        "    plt.show()\n",
        "\n",
        "    color_palette_hex = [rgb_to_hex(rgb) for rgb in stretched_palette[:num_intervals]]  # Adjust the slicing to include only the desired number of colors\n",
        "\n",
        "    return color_palette_hex, interval_breaks\n",
        "\n",
        "hex_palette, breakpoints = create_color_palette1(min_value, max_value, choose(min_value, max_value, interval_breaks), hex_colors)\n",
        "print(\"Hex Color Palette:\", hex_palette)\n",
        "# print(\"Breakpoints:\",interval_breaks )"
      ],
      "metadata": {
        "colab": {
          "base_uri": "https://localhost:8080/",
          "height": 472
        },
        "cellView": "form",
        "id": "DrBLUtMvkYc9",
        "outputId": "ee79228b-88a9-4cef-d01e-90a071339909"
      },
      "execution_count": null,
      "outputs": [
        {
          "output_type": "stream",
          "name": "stdout",
          "text": [
            "[600.0, 800.0, 1000.0, 1200.0, 1400.0, 1600.0, 1800.0, 2000.0, 2200.0]\n",
            "[600.0, 800.0, 1000.0, 1200.0, 1400.0, 1600.0, 1800.0, 2000.0, 2200.0]\n"
          ]
        },
        {
          "output_type": "display_data",
          "data": {
            "text/plain": [
              "<Figure size 640x480 with 1 Axes>"
            ],
            "image/png": "[encoded data removed]"
          },
          "metadata": {}
        },
        {
          "output_type": "stream",
          "name": "stdout",
          "text": [
            "Hex Color Palette: ['#ffffd9', '#eff9b5', '#cfecb3', '#97d6b9', '#5dc0c0', '#31a6c2', '#1f80b8', '#2355a4', '#22318d', '#081d58']\n"
          ]
        }
      ]
    },
    {
      "cell_type": "code",
      "source": [
        "import rasterio\n",
        "import numpy as np\n",
        "from google.colab import drive\n",
        "drive.mount('/content/drive')\n",
        "\n",
        "image_path1 = '/content/drive/MyDrive/Volta/Volta_P_MSWEP_avg.tif'\n",
        "tif_file1 = rasterio.open(image_path1)\n",
        "\n",
        "data1 = tif_file1.read(1)  # Assuming it's a single-band TIF file\n",
        "\n",
        "# Exclude NaN values\n",
        "min_value1 = np.nanmin(data1)\n",
        "max_value1 = np.nanmax(data1)\n",
        "\n",
        "print(\"Minimum value:\", min_value1)\n",
        "print(\"Maximum value:\", max_value1)\n",
        "\n"
      ],
      "metadata": {
        "colab": {
          "base_uri": "https://localhost:8080/"
        },
        "id": "MMRtWealJ7lu",
        "outputId": "b47ec33c-f883-4a28-83bb-90f3822805f7"
      },
      "execution_count": null,
      "outputs": [
        {
          "output_type": "stream",
          "name": "stdout",
          "text": [
            "Mounted at /content/drive\n",
            "Minimum value: 331.79544\n",
            "Maximum value: 1561.1079\n"
          ]
        }
      ]
    },
    {
      "cell_type": "code",
      "source": [
        "#@title Matplotlib Map\n",
        "# choose_array = np.array(choose(min_value, max_value, interval_breaks))\n",
        "# print(type(choose_array[0]))\n",
        "import matplotlib.pyplot as plt\n",
        "from matplotlib.colors import ListedColormap, BoundaryNorm\n",
        "from PIL import Image\n",
        "import numpy as np\n",
        "import rasterio\n",
        "from google.colab import drive\n",
        "drive.mount('/content/drive')\n",
        "\n",
        "# Define your custom color palette\n",
        "color_palette = hex_palette  # Blue, Green, Red\n",
        "\n",
        "# Load the TIFF image\n",
        "image = Image.open('/content/drive/MyDrive/Volta/Volta_P_MSWEP_avg.tif')\n",
        "array = np.array(image)\n",
        "\n",
        "image_path1 = '/content/drive/MyDrive/Volta/Volta_P_MSWEP_avg.tif'\n",
        "tif_file1 = rasterio.open(image_path1)\n",
        "\n",
        "data1 = tif_file1.read(1)  # Assuming it's a single-band TIF file\n",
        "\n",
        "# Exclude NaN values\n",
        "min_value1 = np.nanmin(data1)\n",
        "max_value1 = np.nanmax(data1)\n",
        "choose_array = np.array(choose(min_value1, max_value1, interval_breaks))\n",
        "# print(\"Minimum value:\", min_value1)\n",
        "# print(\"Maximum value:\", max_value1)\n",
        "# # print(min_value1)\n",
        "# print(max_value1)\n",
        "# Set NaN values to transparent\n",
        "array[np.isnan(array)] = np.nan\n",
        "\n",
        "# Define the value range for the TIFF file\n",
        "# min_value = 200  # Minimum value of the range\n",
        "# max_value = 1500  # Maximum value of the range\n",
        "min_value = input_values.get('min_value')\n",
        "max_value = input_values.get('max_value')\n",
        "choose_array = np.array(choose_array, dtype=np.float64)\n",
        "# choose_array = choose.astype(np.float64)\n",
        "# Define the custom interval breaks\n",
        "# break_points = [min_value] + choose + [max_value]\n",
        "choose_with_limits = np.insert(choose_array, 0, min_value1)\n",
        "break_points = np.append(choose_with_limits, max_value1)\n",
        " # Manually defined interval break points including min and max values\n",
        "\n",
        "# Exclude the min and max values from the interval breaks\n",
        "# break_points = [bp for bp in break_points if min_value < bp < max_value]\n",
        "\n",
        "# Create a colormap based on the custom color palette\n",
        "cmap = ListedColormap(color_palette)\n",
        "\n",
        "\n",
        "# Normalize the data within the specified value range\n",
        "norm = BoundaryNorm(break_points, len(color_palette))\n",
        "\n",
        "# Display the image with the custom colormap and value range\n",
        "plt.imshow(array, cmap=cmap, norm=norm)\n",
        "plt.axis('off')\n",
        "plt.colorbar(ticks=break_points)\n",
        "plt.savefig('P_volta_equal_interval.jpg', format='jpeg')\n",
        "plt.show()\n",
        "\n"
      ],
      "metadata": {
        "colab": {
          "base_uri": "https://localhost:8080/",
          "height": 455
        },
        "cellView": "form",
        "id": "wXIUsMuzw1pO",
        "outputId": "b676e143-c732-421c-db4c-c796444b8348"
      },
      "execution_count": null,
      "outputs": [
        {
          "output_type": "stream",
          "name": "stdout",
          "text": [
            "Drive already mounted at /content/drive; to attempt to forcibly remount, call drive.mount(\"/content/drive\", force_remount=True).\n",
            "[500.0, 600.0, 700.0, 800.0, 900.0, 1000.0, 1100.0, 1200.0, 1300.0]\n"
          ]
        },
        {
          "output_type": "display_data",
          "data": {
            "text/plain": [
              "<Figure size 640x480 with 2 Axes>"
            ],
            "image/png": "[encoded data removed]"
          },
          "metadata": {}
        }
      ]
    },
    {
      "cell_type": "code",
      "source": [
        "#@title Histogram\n",
        "import numpy as np\n",
        "import matplotlib.pyplot as plt\n",
        "from skimage import io\n",
        "from google.colab import drive\n",
        "drive.mount('/content/drive')\n",
        "\n",
        "%matplotlib inline\n",
        "\n",
        "# Prompt the user for input\n",
        "integer_input = int(input(\"Enter an integer: \"))\n",
        "print(\"You entered:\", integer_input)\n",
        "\n",
        "# Load the TIF file using scikit-image\n",
        "image = io.imread('/content/drive/MyDrive/Volta/Volta_P_MSWEP_avg.tif')\n",
        "\n",
        "# Flatten the image and remove NaN values\n",
        "image_flat = image.flatten()\n",
        "image_flat = image_flat[~np.isnan(image_flat)]\n",
        "\n",
        "# Get the minimum and maximum values of the image\n",
        "min_value = np.min(image_flat)\n",
        "max_value = np.max(image_flat)\n",
        "\n",
        "# Plot the pixel value distribution\n",
        "plt.figure()\n",
        "plt.hist(image_flat, bins= integer_input, range=[min_value, max_value])\n",
        "plt.xlabel('Pixel Value')\n",
        "plt.ylabel('Frequency')\n",
        "plt.title('Pixel Value Distribution')\n",
        "plt.show()\n",
        "\n",
        "# Get the number of non-NaN values\n",
        "num_non_nan = np.count_nonzero(~np.isnan(image))\n",
        "print(\"Number of non-NaN values:\", num_non_nan)\n"
      ],
      "metadata": {
        "colab": {
          "base_uri": "https://localhost:8080/",
          "height": 541
        },
        "cellView": "form",
        "id": "DuRkM3BoZgSe",
        "outputId": "5204f13d-f385-4251-a8e5-8cdeb5f59ef6"
      },
      "execution_count": null,
      "outputs": [
        {
          "output_type": "stream",
          "name": "stdout",
          "text": [
            "Drive already mounted at /content/drive; to attempt to forcibly remount, call drive.mount(\"/content/drive\", force_remount=True).\n",
            "Enter an integer: 100\n",
            "You entered: 100\n"
          ]
        },
        {
          "output_type": "display_data",
          "data": {
            "text/plain": [
              "<Figure size 640x480 with 1 Axes>"
            ],
            "image/png": "[encoded data removed]"
          },
          "metadata": {}
        },
        {
          "output_type": "stream",
          "name": "stdout",
          "text": [
            "Number of non-NaN values: 6764119\n"
          ]
        }
      ]
    },
    {
      "cell_type": "code",
      "source": [
        "#@title Matplotlib Map - Dividing Classes According to the Frequency\n",
        "import numpy as np\n",
        "import matplotlib.pyplot as plt\n",
        "from skimage import io\n",
        "from matplotlib.colors import ListedColormap, BoundaryNorm\n",
        "from PIL import Image\n",
        "from google.colab import drive\n",
        "drive.mount('/content/drive')\n",
        "\n",
        "# Load the TIF file using scikit-image\n",
        "image = io.imread('/content/drive/MyDrive/Volta/Volta_P_MSWEP_avg.tif')\n",
        "\n",
        "# Flatten the image and remove NaN values\n",
        "image_flat = image.flatten()\n",
        "image_flat = image_flat[~np.isnan(image_flat)]\n",
        "\n",
        "# Get the minimum and maximum values of the image\n",
        "min_value = np.min(image_flat)\n",
        "max_value = np.max(image_flat)\n",
        "\n",
        "# User-defined number of regions\n",
        "num_regions = input_values.get('num_intervals')\n",
        "\n",
        "# Calculate the value range for each region\n",
        "region_ranges = []\n",
        "region_size = len(image_flat) // num_regions\n",
        "remainder = len(image_flat) % num_regions\n",
        "current_index = 0\n",
        "\n",
        "for i in range(num_regions - 1):\n",
        "    region_size_i = region_size + (1 if i < remainder else 0)\n",
        "    region_end_index = current_index + region_size_i - 1\n",
        "    region_ranges.append(image_flat[region_end_index])\n",
        "    current_index = region_end_index + 1\n",
        "\n",
        "# Last region ends with the maximum value\n",
        "region_ranges.append(max_value)\n",
        "\n",
        "# Convert the breaking points to a numpy array (excluding the last element)\n",
        "breaking_points = np.array(region_ranges[:-1])\n",
        "\n",
        "# Round the values in the breaking points array to the nearest integer\n",
        "rounded_breaking_points = np.round(breaking_points)\n",
        "# rounded_breaking_points = np.ceil(rounded_breaking_points / 10)*10\n",
        "# Define your custom color palette\n",
        "color_palette = hex_palette  # Blue, Green, Red\n",
        "\n",
        "# Load the TIFF image\n",
        "image = Image.open('/content/drive/MyDrive/Volta/Volta_P_MSWEP_avg.tif')\n",
        "array = np.array(image)\n",
        "\n",
        "# Set NaN values to transparent\n",
        "array[np.isnan(array)] = np.nan\n",
        "\n",
        "# Define the custom interval breaks\n",
        "choose_with_limits = np.insert(rounded_breaking_points, 0, min_value)\n",
        "break_points = np.append(choose_with_limits, max_value)\n",
        "\n",
        "# Sort the interval breaks in ascending order\n",
        "break_points = np.sort(break_points)\n",
        "\n",
        "# Create a colormap based on the custom color palette\n",
        "cmap = ListedColormap(color_palette)\n",
        "\n",
        "# Normalize the data within the specified value range\n",
        "norm = BoundaryNorm(break_points, len(color_palette))\n",
        "\n",
        "# Display the image with the custom colormap and value range\n",
        "plt.imshow(array, cmap=cmap, norm=norm)\n",
        "plt.axis('off')\n",
        "plt.colorbar(ticks=break_points)\n",
        "plt.savefig('P_volta_Frequency.jpg', format='jpeg')\n",
        "plt.show()\n",
        "\n",
        "# import numpy as np\n",
        "\n",
        "# # Define the range labels for each class\n",
        "# range_labels = []\n",
        "# for i in range(len(breaking_points)-1):\n",
        "#     start_value = breaking_points[i]\n",
        "#     end_value = breaking_points[i + 1]\n",
        "#     range_label = f\"{start_value:.6f} - {end_value:.6f}\"\n",
        "#     range_labels.append(range_label)\n",
        "\n",
        "# # Define the color values for each class\n",
        "\n",
        "# # Define the hexadecimal color palette\n",
        "# # Convert hexadecimal color codes to RGB color values\n",
        "# color_values = []\n",
        "# for hex_code in hex_palette:\n",
        "#     # Remove the '#' symbol from the hexadecimal code\n",
        "#     hex_code = hex_code.lstrip('#')\n",
        "#     # Convert the hexadecimal code to RGB values\n",
        "#     rgb = tuple(int(hex_code[i:i+2], 16) for i in (0, 2, 4))\n",
        "#     # Append the RGB values to the color_values list\n",
        "#     color_values.append(','.join(str(c) for c in rgb))\n",
        "\n",
        "# # Create the content of the text file\n",
        "# content = \"\"\n",
        "# for i in range(len(range_labels)):\n",
        "#     start_value = breaking_points[i]\n",
        "#     end_value = breaking_points[i + 1]\n",
        "#     color_value = color_values[i]\n",
        "#     line = f\"{start_value:.9f},{color_value},{end_value:.9f} - {start_value:.9f} - {end_value:.9f}\"\n",
        "#     if i < len(range_labels) - 1:\n",
        "#         line += f\" - {range_labels[i]}\"\n",
        "#     content += line + \"\\n\"\n",
        "\n",
        "# # Add the last line with the maximum value range\n",
        "# max_value = breaking_points[-1]\n",
        "# last_line = f\"{max_value:.9f},{color_values[-1]},{max_value:.9f} - {max_value + 145:.9f}\"\n",
        "# content += last_line\n",
        "\n",
        "# # Save the content to a text file\n",
        "# file_path = 'color_map.txt'\n",
        "# with open(file_path, 'w') as file:\n",
        "#     file.write(\"# QGIS Generated Color Map Export File\\n\")\n",
        "#     file.write(\"INTERPOLATION:DISCRETE\\n\")\n",
        "#     file.write(content)\n",
        "\n",
        "# print(\"Color map file saved successfully.\")\n",
        "\n",
        "\n",
        "\n"
      ],
      "metadata": {
        "colab": {
          "base_uri": "https://localhost:8080/",
          "height": 437
        },
        "id": "IBEycHTHfw-9",
        "outputId": "0a9f20e9-5c79-4067-a0f2-e0f9b95bb001",
        "cellView": "form"
      },
      "execution_count": null,
      "outputs": [
        {
          "output_type": "stream",
          "name": "stdout",
          "text": [
            "Drive already mounted at /content/drive; to attempt to forcibly remount, call drive.mount(\"/content/drive\", force_remount=True).\n"
          ]
        },
        {
          "output_type": "display_data",
          "data": {
            "text/plain": [
              "<Figure size 640x480 with 2 Axes>"
            ],
            "image/png": "[encoded data removed]"
          },
          "metadata": {}
        }
      ]
    }
  ]
}